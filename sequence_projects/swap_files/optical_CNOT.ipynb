{
 "cells": [
  {
   "cell_type": "code",
   "execution_count": 1,
   "id": "e1a0c9b8",
   "metadata": {},
   "outputs": [
    {
     "name": "stderr",
     "output_type": "stream",
     "text": [
      "/home/asingal/home/.venv/lib/python3.10/site-packages/numba/np/ufunc/parallel.py:371: NumbaWarning: The TBB threading layer requires TBB version 2021 update 6 or later i.e., TBB_INTERFACE_VERSION >= 12060. Found TBB_INTERFACE_VERSION = 12050. The TBB threading layer is disabled.\n",
      "  warnings.warn(problem)\n",
      "/home/asingal/home/.venv/lib/python3.10/site-packages/cotengra/hyperoptimizers/hyper.py:33: UserWarning: Couldn't import `kahypar` - skipping from default hyper optimizer and using basic `labels` method instead.\n",
      "  warnings.warn(\n"
     ]
    }
   ],
   "source": [
    "# This notebook is an implementatio of an optical CNOT operation using PBSs. Based on: https://doi.org/10.1103/PhysRevA.64.062311\n",
    "import qutip as qt\n",
    "from swap_TN_direct import *\n",
    "\n",
    "import qutip as qt\n",
    "import numpy as np\n",
    "from quimb.tensor.tensor_arbgeom import tensor_network_apply_op_vec"
   ]
  },
  {
   "cell_type": "code",
   "execution_count": 2,
   "id": "64add8d1",
   "metadata": {},
   "outputs": [],
   "source": [
    "def quantum_encoder(mean_photon_num, N, psi_control, control_indices, error_tolerance):\n",
    "\n",
    "    # Entangled state from EPS\n",
    "    vacuum = create_vacuum_state(num_modes=8, N=N)\n",
    "    bell_state, _ = light_source(vacuum, N, mean_photon_num, 8, error_tolerance, compress=True, contract=True)\n",
    "\n",
    "    psi = extend_MPS(bell_state, psi_control)\n",
    "\n",
    "    # PBS op: (The V mode is transmitted and not reflected)\n",
    "    U_PBS_V = create_BS_MPO(site1 = 3, site2 = bell_state.L+control_indices[1], theta=np.pi/2, total_sites = 6, N = N, tag = r\"$PBS$\")\n",
    "    enforce_1d_like(U_PBS_V, site_tags=psi.site_tags, inplace=True)\n",
    "    psi = tensor_network_apply_op_vec(U_PBS_V, psi, compress=True, contract = True, cutoff = error_tolerance)\n",
    "\n",
    "    # Measuring D_d\n",
    "    # This is meant to change the basis from HV -> FS: (See https://doi.org/10.1103/PhysRevA.64.062311)\n",
    "    U_PBS_FS = create_BS_MPO(site1 = 2, site2 = 3, theta=np.pi/4, total_sites = 6, N = N, tag = r\"$rotator$\")\n",
    "    enforce_1d_like(U_PBS_FS, site_tags=psi.site_tags, inplace=True)\n",
    "    psi = tensor_network_apply_op_vec(U_PBS_FS, psi, compress=True, contract = True, cutoff = error_tolerance)\n",
    "\n",
    "    # Performing measurements:\n",
    "    BSM_POVM_1_OPs = generate_sqrt_POVM_MPO(sites=[2], outcome = 1, total_sites=6, efficiency=1, N=N, pnr = True)\n",
    "    BSM_POVM_1_OPs.extend(generate_sqrt_POVM_MPO(sites=[3], outcome = 0, total_sites=6, efficiency=1, N=N, pnr = True))\n",
    "\n",
    "    for POVM_OP in BSM_POVM_1_OPs:\n",
    "        psi = tensor_network_apply_op_vec(POVM_OP, psi, compress=True, contract = True, cutoff = error_tolerance)\n",
    "\n",
    "    return psi\n",
    "\n",
    "\n",
    "def destructive_CNOT(control_MPS, control_sites, target_MPS, target_sites, N, error_tolerance):\n",
    "    \n",
    "    psi = extend_MPS(target_MPS, control_MPS)\n",
    "\n",
    "    U_rotator_FS = create_BS_MPO(site1 = target_MPS.L+control_sites[0], site2 = target_MPS.L+control_sites[1], theta=np.pi/4, total_sites = psi.L, N = N, tag = r\"$rotator$\")\n",
    "    enforce_1d_like(U_rotator_FS, site_tags=psi.site_tags, inplace=True)\n",
    "    psi = tensor_network_apply_op_vec(U_rotator_FS, psi, compress=True, contract = True, cutoff = error_tolerance)\n",
    "\n",
    "    U_rotator_FS = create_BS_MPO(site1 = target_sites[0], site2 = target_sites[1], theta=np.pi/4, total_sites = psi.L, N = N, tag = r\"$rotator$\")\n",
    "    enforce_1d_like(U_rotator_FS, site_tags=psi.site_tags, inplace=True)\n",
    "    psi = tensor_network_apply_op_vec(U_rotator_FS, psi, compress=True, contract = True, cutoff = error_tolerance)\n",
    "\n",
    "    # Creating PBS ops:\n",
    "    # SWAP = qt.qip.operations.swap().full()\n",
    "    # U_PBS_F = create_MPO(1, 3, psi.L, SWAP, N, r\"$PBS$\")\n",
    "    U_PBS_F = create_BS_MPO(site1 = 1, site2 = 3, theta=np.pi/2, total_sites = 8, N = N, tag = r\"$PBS$\")\n",
    "    enforce_1d_like(U_PBS_F, site_tags=psi.site_tags, inplace=True)\n",
    "    psi = tensor_network_apply_op_vec(U_PBS_F, psi, compress=True, contract = True, cutoff = error_tolerance)\n",
    "\n",
    "    U_inverse_rotator_FS = create_BS_MPO(site1 = target_sites[0], site2 = target_sites[1], theta=-np.pi/4, total_sites = psi.L, N = N, tag = r\"$rotator$\")\n",
    "    enforce_1d_like(U_inverse_rotator_FS, site_tags=psi.site_tags, inplace=True)\n",
    "    psi = tensor_network_apply_op_vec(U_inverse_rotator_FS, psi, compress=True, contract = True, cutoff = error_tolerance)\n",
    "\n",
    "    U_inverse_rotator_FS = create_BS_MPO(site1 = target_MPS.L+control_sites[0], site2 = target_MPS.L+control_sites[1], theta=-np.pi/4, total_sites = psi.L, N = N, tag = r\"$rotator$\")\n",
    "    enforce_1d_like(U_inverse_rotator_FS, site_tags=psi.site_tags, inplace=True)\n",
    "    psi = tensor_network_apply_op_vec(U_inverse_rotator_FS, psi, compress=True, contract = True, cutoff = error_tolerance)\n",
    "\n",
    "    BSM_POVM_1_OPs = generate_sqrt_POVM_MPO(sites=[2], outcome = 1, total_sites=8, efficiency=1, N=N, pnr = True)\n",
    "    BSM_POVM_1_OPs.extend(generate_sqrt_POVM_MPO(sites=[3], outcome = 0, total_sites=8, efficiency=1, N=N, pnr = True))\n",
    "\n",
    "    for POVM_OP in BSM_POVM_1_OPs:\n",
    "        psi = tensor_network_apply_op_vec(POVM_OP, psi, compress=True, contract = True, cutoff = error_tolerance)\n",
    "\n",
    "    return psi\n",
    "\n",
    "def CNOT(psi_control, psi_control_modes, psi_target, psi_target_modes, N, mean_photon_num, error_tolerance):\n",
    "\n",
    "    psi = quantum_encoder(mean_photon_num, N, psi_control, psi_control_modes, error_tolerance)\n",
    "    psi = destructive_CNOT(psi, (0,1), psi_target, psi_target_modes, N, error_tolerance)\n",
    "\n",
    "    norm = psi.normalize()\n",
    "    for _ in range(4):\n",
    "        psi.measure(2, remove = True, renorm = True, inplace = True)\n",
    "    psi[-1].modify(data=psi[-1].data * norm**0.5)\n",
    "\n",
    "    return psi\n"
   ]
  },
  {
   "cell_type": "code",
   "execution_count": 8,
   "id": "fe3de370",
   "metadata": {},
   "outputs": [],
   "source": [
    "N = 2\n",
    "mean_photon_num = 0.05\n",
    "error_tolerance = 1e-10"
   ]
  },
  {
   "cell_type": "code",
   "execution_count": 9,
   "id": "73462ca4",
   "metadata": {},
   "outputs": [],
   "source": [
    "# Defining the control and target inputs here\n",
    "a_dag = qt.create(N).full()\n",
    "I = qt.identity(N).full()\n",
    "\n",
    "a_H = np.kron(a_dag, I)\n",
    "a_V = np.kron(I, a_dag)\n",
    "\n",
    "vacuum = create_vacuum_state(num_modes=2, N=N)\n",
    "\n",
    "control_operator = 1/np.sqrt(3) * a_H + np.sqrt(2/3) * a_V\n",
    "control_MPO = create_MPO(0, 1, 2, control_operator, N, \"control\")\n",
    "psi_control = tensor_network_apply_op_vec(control_MPO, vacuum, compress=True, contract = True, cutoff = error_tolerance)\n",
    "\n",
    "# Our target is in the H state \n",
    "target_operator = a_V\n",
    "target_MPO = create_MPO(0, 1, 2, target_operator, N, \"target\")\n",
    "psi_target = tensor_network_apply_op_vec(target_MPO, vacuum, compress=True, contract = True, cutoff = error_tolerance)"
   ]
  },
  {
   "cell_type": "code",
   "execution_count": 10,
   "id": "12e6fc0b",
   "metadata": {},
   "outputs": [
    {
     "name": "stdout",
     "output_type": "stream",
     "text": [
      "Corresponding Basis terms:\n",
      "0H0V_B 0H0V_A - 0 - [0.28795405-0.j]\n",
      "0H1V_B 1H0V_A - 6 - [0.+0.01018921j]\n",
      "1H0V_B 0H1V_A - 9 - [0.+0.01440971j]\n",
      "1H1V_B 1H1V_A - 15 - [0.00050989+0.j]\n"
     ]
    }
   ],
   "source": [
    "psi = CNOT(psi_control, (0,1), psi_target, (0,1), N, mean_photon_num, error_tolerance)\n",
    "\n",
    "read_quantum_state(psi, N, num_states=2)"
   ]
  }
 ],
 "metadata": {
  "kernelspec": {
   "display_name": ".venv",
   "language": "python",
   "name": "python3"
  },
  "language_info": {
   "codemirror_mode": {
    "name": "ipython",
    "version": 3
   },
   "file_extension": ".py",
   "mimetype": "text/x-python",
   "name": "python",
   "nbconvert_exporter": "python",
   "pygments_lexer": "ipython3",
   "version": "3.10.12"
  }
 },
 "nbformat": 4,
 "nbformat_minor": 5
}
